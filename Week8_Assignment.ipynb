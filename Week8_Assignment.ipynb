{
 "cells": [
  {
   "cell_type": "markdown",
   "id": "6013297e",
   "metadata": {},
   "source": [
    "Import necessary pyhton libraries"
   ]
  },
  {
   "cell_type": "code",
   "execution_count": 2,
   "id": "edaf980f",
   "metadata": {},
   "outputs": [],
   "source": [
    "import pandas as pd\n",
    "import numpy as np"
   ]
  },
  {
   "cell_type": "markdown",
   "id": "3c603f1c",
   "metadata": {},
   "source": [
    "Read CSV File"
   ]
  },
  {
   "cell_type": "code",
   "execution_count": 3,
   "id": "837b06a1",
   "metadata": {},
   "outputs": [],
   "source": [
    "df=pd.read_csv(\"https://raw.githubusercontent.com/austin1018/IS362_Assignment8/main/auto-mpg.data\", header=None,sep=\"\\t\")"
   ]
  },
  {
   "cell_type": "markdown",
   "id": "faf61dda",
   "metadata": {},
   "source": [
    "Change the column names and fix some of the data issue"
   ]
  },
  {
   "cell_type": "code",
   "execution_count": 4,
   "id": "4c04dd46",
   "metadata": {},
   "outputs": [
    {
     "name": "stderr",
     "output_type": "stream",
     "text": [
      "<ipython-input-4-3033fc98e693>:9: FutureWarning: The default value of regex will change from True to False in a future version. In addition, single character regular expressions will*not* be treated as literal strings when regex=True.\n",
      "  df[\"weight\"]=df[\"weight\"].str.replace(\".\",\"\")\n"
     ]
    }
   ],
   "source": [
    "df[\"mpg\"]=df.iloc[:, 0].str.slice(0, 6)\n",
    "df[\"cylinders\"]=df.iloc[:, 0].str.slice(7, 11)\n",
    "df[\"displacement\"]=df.iloc[:, 0].str.slice(11, 22)\n",
    "df[\"horsepower\"]=df.iloc[:, 0].str.slice(22, 33)\n",
    "df[\"weight\"]=df.iloc[:, 0].str.slice(33, 44).replace(\".\",\"\")\n",
    "df[\"acceleration\"]=df.iloc[:, 0].str.slice(44, 51)\n",
    "df[\"model year\"]=df.iloc[:, 0].str.slice(51, 55)\n",
    "df[\"origin\"]=df.iloc[:, 0].str[55:]\n",
    "df[\"weight\"]=df[\"weight\"].str.replace(\".\",\"\")\n",
    "df[\"horsepower\"]=df[\"horsepower\"].replace(\"?          \",np.NaN)\n",
    "df[\"horsepower\"] = pd.to_numeric(df[\"horsepower\"])\n",
    "df[\"car name\"]=df.iloc[:, 1]\n",
    "df.drop(df.columns[[0,1]],axis=1,inplace=True)"
   ]
  },
  {
   "cell_type": "markdown",
   "id": "c6e4d415",
   "metadata": {},
   "source": [
    "Replace 1,2,3 with USA, Asia and Europe"
   ]
  },
  {
   "cell_type": "code",
   "execution_count": 5,
   "id": "11a8e345",
   "metadata": {},
   "outputs": [
    {
     "data": {
      "text/html": [
       "<div>\n",
       "<style scoped>\n",
       "    .dataframe tbody tr th:only-of-type {\n",
       "        vertical-align: middle;\n",
       "    }\n",
       "\n",
       "    .dataframe tbody tr th {\n",
       "        vertical-align: top;\n",
       "    }\n",
       "\n",
       "    .dataframe thead th {\n",
       "        text-align: right;\n",
       "    }\n",
       "</style>\n",
       "<table border=\"1\" class=\"dataframe\">\n",
       "  <thead>\n",
       "    <tr style=\"text-align: right;\">\n",
       "      <th></th>\n",
       "      <th>mpg</th>\n",
       "      <th>cylinders</th>\n",
       "      <th>displacement</th>\n",
       "      <th>horsepower</th>\n",
       "      <th>weight</th>\n",
       "      <th>acceleration</th>\n",
       "      <th>model year</th>\n",
       "      <th>origin</th>\n",
       "      <th>car name</th>\n",
       "    </tr>\n",
       "  </thead>\n",
       "  <tbody>\n",
       "    <tr>\n",
       "      <th>0</th>\n",
       "      <td>18.0</td>\n",
       "      <td>8</td>\n",
       "      <td>307.0</td>\n",
       "      <td>130.0</td>\n",
       "      <td>3504</td>\n",
       "      <td>12.0</td>\n",
       "      <td>70</td>\n",
       "      <td>USA</td>\n",
       "      <td>chevrolet chevelle malibu</td>\n",
       "    </tr>\n",
       "    <tr>\n",
       "      <th>1</th>\n",
       "      <td>15.0</td>\n",
       "      <td>8</td>\n",
       "      <td>350.0</td>\n",
       "      <td>165.0</td>\n",
       "      <td>3693</td>\n",
       "      <td>11.5</td>\n",
       "      <td>70</td>\n",
       "      <td>USA</td>\n",
       "      <td>buick skylark 320</td>\n",
       "    </tr>\n",
       "    <tr>\n",
       "      <th>2</th>\n",
       "      <td>18.0</td>\n",
       "      <td>8</td>\n",
       "      <td>318.0</td>\n",
       "      <td>150.0</td>\n",
       "      <td>3436</td>\n",
       "      <td>11.0</td>\n",
       "      <td>70</td>\n",
       "      <td>USA</td>\n",
       "      <td>plymouth satellite</td>\n",
       "    </tr>\n",
       "    <tr>\n",
       "      <th>3</th>\n",
       "      <td>16.0</td>\n",
       "      <td>8</td>\n",
       "      <td>304.0</td>\n",
       "      <td>150.0</td>\n",
       "      <td>3433</td>\n",
       "      <td>12.0</td>\n",
       "      <td>70</td>\n",
       "      <td>USA</td>\n",
       "      <td>amc rebel sst</td>\n",
       "    </tr>\n",
       "    <tr>\n",
       "      <th>4</th>\n",
       "      <td>17.0</td>\n",
       "      <td>8</td>\n",
       "      <td>302.0</td>\n",
       "      <td>140.0</td>\n",
       "      <td>3449</td>\n",
       "      <td>10.5</td>\n",
       "      <td>70</td>\n",
       "      <td>USA</td>\n",
       "      <td>ford torino</td>\n",
       "    </tr>\n",
       "    <tr>\n",
       "      <th>...</th>\n",
       "      <td>...</td>\n",
       "      <td>...</td>\n",
       "      <td>...</td>\n",
       "      <td>...</td>\n",
       "      <td>...</td>\n",
       "      <td>...</td>\n",
       "      <td>...</td>\n",
       "      <td>...</td>\n",
       "      <td>...</td>\n",
       "    </tr>\n",
       "    <tr>\n",
       "      <th>393</th>\n",
       "      <td>27.0</td>\n",
       "      <td>4</td>\n",
       "      <td>140.0</td>\n",
       "      <td>86.0</td>\n",
       "      <td>2790</td>\n",
       "      <td>15.6</td>\n",
       "      <td>82</td>\n",
       "      <td>USA</td>\n",
       "      <td>ford mustang gl</td>\n",
       "    </tr>\n",
       "    <tr>\n",
       "      <th>394</th>\n",
       "      <td>44.0</td>\n",
       "      <td>4</td>\n",
       "      <td>97.00</td>\n",
       "      <td>52.0</td>\n",
       "      <td>2130</td>\n",
       "      <td>24.6</td>\n",
       "      <td>82</td>\n",
       "      <td>Asia</td>\n",
       "      <td>vw pickup</td>\n",
       "    </tr>\n",
       "    <tr>\n",
       "      <th>395</th>\n",
       "      <td>32.0</td>\n",
       "      <td>4</td>\n",
       "      <td>135.0</td>\n",
       "      <td>84.0</td>\n",
       "      <td>2295</td>\n",
       "      <td>11.6</td>\n",
       "      <td>82</td>\n",
       "      <td>USA</td>\n",
       "      <td>dodge rampage</td>\n",
       "    </tr>\n",
       "    <tr>\n",
       "      <th>396</th>\n",
       "      <td>28.0</td>\n",
       "      <td>4</td>\n",
       "      <td>120.0</td>\n",
       "      <td>79.0</td>\n",
       "      <td>2625</td>\n",
       "      <td>18.6</td>\n",
       "      <td>82</td>\n",
       "      <td>USA</td>\n",
       "      <td>ford ranger</td>\n",
       "    </tr>\n",
       "    <tr>\n",
       "      <th>397</th>\n",
       "      <td>31.0</td>\n",
       "      <td>4</td>\n",
       "      <td>119.0</td>\n",
       "      <td>82.0</td>\n",
       "      <td>2720</td>\n",
       "      <td>19.4</td>\n",
       "      <td>82</td>\n",
       "      <td>USA</td>\n",
       "      <td>chevy s-10</td>\n",
       "    </tr>\n",
       "  </tbody>\n",
       "</table>\n",
       "<p>398 rows × 9 columns</p>\n",
       "</div>"
      ],
      "text/plain": [
       "        mpg cylinders displacement  horsepower      weight acceleration  \\\n",
       "0    18.0        8     307.0             130.0  3504            12.0      \n",
       "1    15.0        8     350.0             165.0  3693            11.5      \n",
       "2    18.0        8     318.0             150.0  3436            11.0      \n",
       "3    16.0        8     304.0             150.0  3433            12.0      \n",
       "4    17.0        8     302.0             140.0  3449            10.5      \n",
       "..      ...       ...          ...         ...         ...          ...   \n",
       "393  27.0        4     140.0              86.0  2790            15.6      \n",
       "394  44.0        4     97.00              52.0  2130            24.6      \n",
       "395  32.0        4     135.0              84.0  2295            11.6      \n",
       "396  28.0        4     120.0              79.0  2625            18.6      \n",
       "397  31.0        4     119.0              82.0  2720            19.4      \n",
       "\n",
       "    model year origin                   car name  \n",
       "0         70      USA  chevrolet chevelle malibu  \n",
       "1         70      USA          buick skylark 320  \n",
       "2         70      USA         plymouth satellite  \n",
       "3         70      USA              amc rebel sst  \n",
       "4         70      USA                ford torino  \n",
       "..         ...    ...                        ...  \n",
       "393       82      USA            ford mustang gl  \n",
       "394       82     Asia                  vw pickup  \n",
       "395       82      USA              dodge rampage  \n",
       "396       82      USA                ford ranger  \n",
       "397       82      USA                 chevy s-10  \n",
       "\n",
       "[398 rows x 9 columns]"
      ]
     },
     "execution_count": 5,
     "metadata": {},
     "output_type": "execute_result"
    }
   ],
   "source": [
    "df[\"origin\"]=df[\"origin\"].str.replace(\"1\",\"USA\").replace(\"2\",\"Asia\").replace(\"3\",\"Europe\")\n",
    "df"
   ]
  },
  {
   "cell_type": "markdown",
   "id": "bb5d8dae",
   "metadata": {},
   "source": [
    "Show the distribution for cylinders"
   ]
  },
  {
   "cell_type": "code",
   "execution_count": 6,
   "id": "630de180",
   "metadata": {},
   "outputs": [
    {
     "data": {
      "text/plain": [
       "cylinders\n",
       "3      4\n",
       "4    204\n",
       "5      3\n",
       "6     84\n",
       "8    103\n",
       "Name: origin, dtype: int64"
      ]
     },
     "execution_count": 6,
     "metadata": {},
     "output_type": "execute_result"
    }
   ],
   "source": [
    "df[\"cylinders\"]=df[\"cylinders\"].astype(int)\n",
    "DF_Agg=df.groupby('cylinders')['origin'].count()\n",
    "DF_Agg"
   ]
  },
  {
   "cell_type": "code",
   "execution_count": 7,
   "id": "524f62a3",
   "metadata": {},
   "outputs": [
    {
     "data": {
      "text/plain": [
       "<AxesSubplot:xlabel='cylinders'>"
      ]
     },
     "execution_count": 7,
     "metadata": {},
     "output_type": "execute_result"
    },
    {
     "data": {
      "image/png": "[encoded data removed]",
      "text/plain": [
       "<Figure size 432x288 with 1 Axes>"
      ]
     },
     "metadata": {
      "needs_background": "light"
     },
     "output_type": "display_data"
    }
   ],
   "source": [
    "bdf=DF_Agg.plot.bar(x='cylinders', y='count', rot=0)\n",
    "bdf"
   ]
  },
  {
   "cell_type": "markdown",
   "id": "9daa35a4",
   "metadata": {},
   "source": [
    "Show the relationship between horsepower and weight"
   ]
  },
  {
   "cell_type": "code",
   "execution_count": 8,
   "id": "dcdf78ab",
   "metadata": {},
   "outputs": [
    {
     "data": {
      "text/plain": [
       "<AxesSubplot:xlabel='horsepower', ylabel='weight'>"
      ]
     },
     "execution_count": 8,
     "metadata": {},
     "output_type": "execute_result"
    },
    {
     "data": {
      "image/png": "[encoded data removed]",
      "text/plain": [
       "<Figure size 432x288 with 1 Axes>"
      ]
     },
     "metadata": {
      "needs_background": "light"
     },
     "output_type": "display_data"
    }
   ],
   "source": [
    "ax1 = df.plot.scatter(x='horsepower',y='weight',c='DarkBlue')\n",
    "ax1"
   ]
  },
  {
   "cell_type": "markdown",
   "id": "6183c383",
   "metadata": {},
   "source": [
    "Show the distribution for origin"
   ]
  },
  {
   "cell_type": "code",
   "execution_count": 9,
   "id": "77e4182a",
   "metadata": {},
   "outputs": [
    {
     "data": {
      "text/plain": [
       "origin\n",
       "Asia       70\n",
       "Europe     79\n",
       "USA       249\n",
       "Name: mpg, dtype: int64"
      ]
     },
     "execution_count": 9,
     "metadata": {},
     "output_type": "execute_result"
    }
   ],
   "source": [
    "DF_Agg=df.groupby('origin')['mpg'].count()\n",
    "DF_Agg"
   ]
  },
  {
   "cell_type": "code",
   "execution_count": 10,
   "id": "c1df7a1c",
   "metadata": {},
   "outputs": [
    {
     "data": {
      "text/plain": [
       "<AxesSubplot:xlabel='origin'>"
      ]
     },
     "execution_count": 10,
     "metadata": {},
     "output_type": "execute_result"
    },
    {
     "data": {
      "image/png": "[encoded data removed]",
      "text/plain": [
       "<Figure size 432x288 with 1 Axes>"
      ]
     },
     "metadata": {
      "needs_background": "light"
     },
     "output_type": "display_data"
    }
   ],
   "source": [
    "bdf=DF_Agg.plot.bar(x='origin', y='count', rot=0)\n",
    "bdf"
   ]
  }
 ],
 "metadata": {
  "kernelspec": {
   "display_name": "Python 3",
   "language": "python",
   "name": "python3"
  },
  "language_info": {
   "codemirror_mode": {
    "name": "ipython",
    "version": 3
   },
   "file_extension": ".py",
   "mimetype": "text/x-python",
   "name": "python",
   "nbconvert_exporter": "python",
   "pygments_lexer": "ipython3",
   "version": "3.8.8"
  }
 },
 "nbformat": 4,
 "nbformat_minor": 5
}
